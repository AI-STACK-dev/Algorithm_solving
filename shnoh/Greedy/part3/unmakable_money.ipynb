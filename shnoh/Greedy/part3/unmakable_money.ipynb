{
 "cells": [
  {
   "cell_type": "markdown",
   "metadata": {},
   "source": [
    "# Q4 만들 수 없는 금액"
   ]
  },
  {
   "cell_type": "code",
   "execution_count": null,
   "metadata": {},
   "outputs": [],
   "source": [
    "n = int(input())\n",
    "A = list(map(int, input().split()))\n",
    "A.sort() # 오름차순 정렬\n",
    "num = 1 # 불가능 한지 검사하는 수\n",
    "for i in A:\n",
    "    if num<i: # 만들 수 없는 경우\n",
    "        break\n",
    "    else:\n",
    "        num+=i\n",
    "print(num)"
   ]
  }
 ],
 "metadata": {
  "language_info": {
   "name": "python"
  },
  "orig_nbformat": 4
 },
 "nbformat": 4,
 "nbformat_minor": 2
}
