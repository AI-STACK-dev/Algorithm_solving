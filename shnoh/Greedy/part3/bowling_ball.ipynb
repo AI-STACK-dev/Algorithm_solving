{
 "cells": [
  {
   "cell_type": "markdown",
   "metadata": {},
   "source": [
    "# Q5 볼링공 고르기"
   ]
  },
  {
   "cell_type": "code",
   "execution_count": 5,
   "metadata": {},
   "outputs": [
    {
     "name": "stdout",
     "output_type": "stream",
     "text": [
      "25\n"
     ]
    }
   ],
   "source": [
    "n,m = map(int, input().split())\n",
    "A = list(map(int, input().split()))\n",
    "Ball = [0] * m # i크기의 ball이 각 몇개 있는지\n",
    "Case = n\n",
    "for i in range(n):\n",
    "    Ball[A[i]-1]+=1\n",
    "tot=0 # 전체 경우의 수\n",
    "for i in range(m): # \n",
    "    Case -= Ball[i] # 같은 크기 공을 제외한\n",
    "    tot += Ball[i]*Case # 아직 경우의 수 안 다뤄진 크기 다른 공들의 개수\n",
    "print(tot)"
   ]
  },
  {
   "cell_type": "code",
   "execution_count": null,
   "metadata": {},
   "outputs": [],
   "source": []
  }
 ],
 "metadata": {
  "interpreter": {
   "hash": "a7401fdbc441e771371315dfd74d70672a7e5696f5857508b031491b5c8705db"
  },
  "kernelspec": {
   "display_name": "Python 3.8.10 64-bit ('base': conda)",
   "name": "python3"
  },
  "language_info": {
   "codemirror_mode": {
    "name": "ipython",
    "version": 3
   },
   "file_extension": ".py",
   "mimetype": "text/x-python",
   "name": "python",
   "nbconvert_exporter": "python",
   "pygments_lexer": "ipython3",
   "version": "3.8.10"
  },
  "orig_nbformat": 4
 },
 "nbformat": 4,
 "nbformat_minor": 2
}
