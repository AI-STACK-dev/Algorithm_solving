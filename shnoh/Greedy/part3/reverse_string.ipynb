{
 "cells": [
  {
   "cell_type": "markdown",
   "metadata": {},
   "source": [
    "# Q3 문자열 뒤집기\n",
    "# 백준 1439번 뒤집기"
   ]
  },
  {
   "cell_type": "code",
   "execution_count": 5,
   "metadata": {},
   "outputs": [
    {
     "name": "stdout",
     "output_type": "stream",
     "text": [
      "2\n"
     ]
    }
   ],
   "source": [
    "S = input()\n",
    "#초깃값 설정\n",
    "last = int(S[0])\n",
    "if last == 0:\n",
    "    one_zero=1 # one to zero count\n",
    "    zero_one = 0 # zero to one count\n",
    "else:\n",
    "    zero_one=1\n",
    "    one_zero = 0\n",
    "    \n",
    "for i in range(1,len(S)):\n",
    "    x = int(S[i])\n",
    "    if last != x:# 달라지면 count\n",
    "        if last == 0: # 0 to 1\n",
    "            zero_one += 1\n",
    "        else: # 1 to 0\n",
    "            one_zero += 1\n",
    "        last = x\n",
    "         \n",
    "print(min(zero_one, one_zero))"
   ]
  }
 ],
 "metadata": {
  "interpreter": {
   "hash": "a7401fdbc441e771371315dfd74d70672a7e5696f5857508b031491b5c8705db"
  },
  "kernelspec": {
   "display_name": "Python 3.8.10 64-bit ('base': conda)",
   "name": "python3"
  },
  "language_info": {
   "codemirror_mode": {
    "name": "ipython",
    "version": 3
   },
   "file_extension": ".py",
   "mimetype": "text/x-python",
   "name": "python",
   "nbconvert_exporter": "python",
   "pygments_lexer": "ipython3",
   "version": "3.8.10"
  },
  "orig_nbformat": 4
 },
 "nbformat": 4,
 "nbformat_minor": 2
}
