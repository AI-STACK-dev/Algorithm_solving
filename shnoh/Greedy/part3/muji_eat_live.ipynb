{
 "cells": [
  {
   "cell_type": "markdown",
   "metadata": {},
   "source": [
    "# Q6 무지의 먹방 라이브"
   ]
  },
  {
   "cell_type": "code",
   "execution_count": null,
   "metadata": {},
   "outputs": [],
   "source": [
    "def solution(food_times, k):\n",
    "    answer = 0\n",
    "    return answer"
   ]
  },
  {
   "cell_type": "code",
   "execution_count": null,
   "metadata": {},
   "outputs": [],
   "source": [
    "def solution(food_times, k):\n",
    "    n = len(food_times)\n",
    "    idx = 0\n",
    "    for _ in range(k):\n",
    "        cnt=0\n",
    "        while food_times[idx] == 0:\n",
    "            if cnt >= n:\n",
    "                return -1\n",
    "            idx += 1\n",
    "            idx = idx % n\n",
    "            cnt+=1\n",
    "        food_times[idx] -= 1\n",
    "        idx +=1    \n",
    "        idx = idx % n\n",
    "    \n",
    "    return idx+1"
   ]
  },
  {
   "cell_type": "markdown",
   "metadata": {},
   "source": [
    "아니... 왜 안되지?   \n",
    "이해가 안돼서 Pass!"
   ]
  },
  {
   "cell_type": "markdown",
   "metadata": {},
   "source": []
  }
 ],
 "metadata": {
  "language_info": {
   "name": "python"
  },
  "orig_nbformat": 4
 },
 "nbformat": 4,
 "nbformat_minor": 2
}
