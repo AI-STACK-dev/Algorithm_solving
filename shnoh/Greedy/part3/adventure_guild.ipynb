{
 "cells": [
  {
   "cell_type": "markdown",
   "metadata": {},
   "source": [
    "# Q1 모험가 길드"
   ]
  },
  {
   "cell_type": "code",
   "execution_count": null,
   "metadata": {},
   "outputs": [],
   "source": [
    "def solve(n,A):\n",
    "    i=0\n",
    "    count=0\n",
    "    while True:\n",
    "        if i>n:\n",
    "            count-=1\n",
    "            break\n",
    "        elif i == n:\n",
    "            break\n",
    "        else:\n",
    "            i+=A[i]\n",
    "            count+=1\n",
    "    return count\n",
    "\n",
    "n = int(input())\n",
    "A = list(map(int, input().split()))\n",
    "A.sort(reverse=True)\n",
    "print(solve(n,A))"
   ]
  },
  {
   "cell_type": "code",
   "execution_count": 6,
   "metadata": {},
   "outputs": [
    {
     "name": "stdout",
     "output_type": "stream",
     "text": [
      "2\n"
     ]
    }
   ],
   "source": [
    "def solve(n,A):\n",
    "    gr_cnt=0 # 그룹 개수\n",
    "    cur_size=1 # 현재 그룹 인원수\n",
    "    for i in range(n): \n",
    "        if A[i]==0:\n",
    "            gr_cnt+=1\n",
    "        elif cur_size >=A[i]: # 그룹 이룰 수 있으면 이룬다.\n",
    "            gr_cnt+=1\n",
    "            cur_size=1\n",
    "        else:\n",
    "            cur_size+=1\n",
    "    return gr_cnt\n",
    "n = int(input())\n",
    "A = list(map(int, input().split()))\n",
    "A.sort()\n",
    "print(solve(n,A))"
   ]
  },
  {
   "cell_type": "code",
   "execution_count": null,
   "metadata": {},
   "outputs": [],
   "source": []
  }
 ],
 "metadata": {
  "interpreter": {
   "hash": "a7401fdbc441e771371315dfd74d70672a7e5696f5857508b031491b5c8705db"
  },
  "kernelspec": {
   "display_name": "Python 3.8.10 64-bit ('base': conda)",
   "name": "python3"
  },
  "language_info": {
   "codemirror_mode": {
    "name": "ipython",
    "version": 3
   },
   "file_extension": ".py",
   "mimetype": "text/x-python",
   "name": "python",
   "nbconvert_exporter": "python",
   "pygments_lexer": "ipython3",
   "version": "3.8.10"
  },
  "orig_nbformat": 4
 },
 "nbformat": 4,
 "nbformat_minor": 2
}
