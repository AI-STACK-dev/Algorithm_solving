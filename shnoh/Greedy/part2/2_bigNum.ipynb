{
 "cells": [
  {
   "cell_type": "code",
   "execution_count": 6,
   "source": [
    "n, m, k = map(int, input().split())\r\n",
    "data = list(map(int, input().split()))\r\n",
    "data.sort(reverse=True)\r\n",
    "res = 0\r\n",
    "k_count=0\r\n",
    "for i in range(m):\r\n",
    "    if k_count == k:\r\n",
    "        res += data[1]\r\n",
    "        k_count=0\r\n",
    "        continue\r\n",
    "    res += data[0]\r\n",
    "    k_count+=1\r\n",
    "print(res)\r\n"
   ],
   "outputs": [
    {
     "output_type": "stream",
     "name": "stdout",
     "text": [
      "46\n"
     ]
    }
   ],
   "metadata": {}
  },
  {
   "cell_type": "code",
   "execution_count": 5,
   "source": [
    "A =  [2,1,3]\r\n",
    "A.sort(reverse=True)\r\n",
    "print(A)"
   ],
   "outputs": [
    {
     "output_type": "stream",
     "name": "stdout",
     "text": [
      "[3, 2, 1]\n"
     ]
    }
   ],
   "metadata": {}
  },
  {
   "cell_type": "code",
   "execution_count": null,
   "source": [],
   "outputs": [],
   "metadata": {}
  }
 ],
 "metadata": {
  "orig_nbformat": 4,
  "language_info": {
   "name": "python",
   "version": "3.8.10",
   "mimetype": "text/x-python",
   "codemirror_mode": {
    "name": "ipython",
    "version": 3
   },
   "pygments_lexer": "ipython3",
   "nbconvert_exporter": "python",
   "file_extension": ".py"
  },
  "kernelspec": {
   "name": "python3",
   "display_name": "Python 3.8.10 64-bit ('base': conda)"
  },
  "interpreter": {
   "hash": "a7401fdbc441e771371315dfd74d70672a7e5696f5857508b031491b5c8705db"
  }
 },
 "nbformat": 4,
 "nbformat_minor": 2
}