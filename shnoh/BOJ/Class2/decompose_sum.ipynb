{
 "cells": [
  {
   "cell_type": "code",
   "execution_count": 7,
   "metadata": {},
   "outputs": [
    {
     "name": "stdout",
     "output_type": "stream",
     "text": [
      "1\n"
     ]
    }
   ],
   "source": [
    "N = int(input())\n",
    "n = len(str(N))\n",
    "Low_end = N - n*9\n",
    "least_M = N\n",
    "for M in range(N, Low_end, -1):\n",
    "    if M <= 0:\n",
    "        break\n",
    "    Mstring = str(M)\n",
    "    decom_sum = M\n",
    "    for i in Mstring:\n",
    "        decom_sum += int(i)\n",
    "    if decom_sum == N:\n",
    "        least_M = M\n",
    "if least_M == N:\n",
    "    print(0)\n",
    "else:\n",
    "    print(least_M)"
   ]
  },
  {
   "cell_type": "code",
   "execution_count": null,
   "metadata": {},
   "outputs": [],
   "source": []
  }
 ],
 "metadata": {
  "interpreter": {
   "hash": "a7401fdbc441e771371315dfd74d70672a7e5696f5857508b031491b5c8705db"
  },
  "kernelspec": {
   "display_name": "Python 3.8.10 64-bit ('base': conda)",
   "name": "python3"
  },
  "language_info": {
   "codemirror_mode": {
    "name": "ipython",
    "version": 3
   },
   "file_extension": ".py",
   "mimetype": "text/x-python",
   "name": "python",
   "nbconvert_exporter": "python",
   "pygments_lexer": "ipython3",
   "version": "3.8.10"
  },
  "orig_nbformat": 4
 },
 "nbformat": 4,
 "nbformat_minor": 2
}
