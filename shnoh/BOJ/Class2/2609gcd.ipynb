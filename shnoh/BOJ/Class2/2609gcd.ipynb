{
 "cells": [
  {
   "cell_type": "code",
   "execution_count": 1,
   "metadata": {},
   "outputs": [
    {
     "name": "stdout",
     "output_type": "stream",
     "text": [
      "6\n",
      "72\n"
     ]
    }
   ],
   "source": [
    "a,b = map(int, input().split())\n",
    "def gcd_mod(a, b): # 유클리드 호제법\n",
    "\twhile a*b!=0:\n",
    "\t\tif a>b: a=a%b\n",
    "\t\telse: b=b%a\n",
    "\treturn a+b\n",
    "GCD = gcd_mod(a, b) # GCD(Greatest Common Divisor)\n",
    "LCM = GCD * (a // GCD) * (b // GCD)# LCM(Least Common Multiple)\n",
    "print(GCD)\n",
    "print(LCM)\n"
   ]
  },
  {
   "cell_type": "markdown",
   "metadata": {},
   "source": [
    "최대공약수?\n",
    "최대 공통 약수.\n",
    "\n",
    "최소 공배수?\n",
    "두 수를 최대 공약수로 나누고 최대 공약수에 그 두수를 곱하면 최소 공배수일 듯?"
   ]
  }
 ],
 "metadata": {
  "interpreter": {
   "hash": "a7401fdbc441e771371315dfd74d70672a7e5696f5857508b031491b5c8705db"
  },
  "kernelspec": {
   "display_name": "Python 3.8.10 64-bit ('base': conda)",
   "name": "python3"
  },
  "language_info": {
   "codemirror_mode": {
    "name": "ipython",
    "version": 3
   },
   "file_extension": ".py",
   "mimetype": "text/x-python",
   "name": "python",
   "nbconvert_exporter": "python",
   "pygments_lexer": "ipython3",
   "version": "3.8.10"
  },
  "orig_nbformat": 4
 },
 "nbformat": 4,
 "nbformat_minor": 2
}
