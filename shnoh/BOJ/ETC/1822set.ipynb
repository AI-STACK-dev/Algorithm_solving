{
 "cells": [
  {
   "cell_type": "code",
   "execution_count": 4,
   "metadata": {},
   "outputs": [
    {
     "name": "stdout",
     "output_type": "stream",
     "text": [
      "0\n"
     ]
    }
   ],
   "source": [
    "n_a, n_b = map(int, input().split()) # 미 사용\n",
    "A = list(map(int, input().split()))\n",
    "B = set(list(map(int, input().split())))\n",
    "C = []\n",
    "for a in A:\n",
    "    if a not in B:\n",
    "        C.append(a)\n",
    "C.sort()\n",
    "print(len(C))\n",
    "for i in C:\n",
    "    print(i, end = ' ')"
   ]
  },
  {
   "cell_type": "code",
   "execution_count": null,
   "metadata": {},
   "outputs": [],
   "source": [
    "def solve(first, last, k):\n",
    "    first_set = set(first)\n",
    "    last_set = set(last) - first_set\n",
    "\n",
    "    first_sum = sum(first_set)\n",
    "    last_sum = sum(last_set)\n",
    "    if first_sum == last_sum:\n",
    "        print(-1)\n",
    "        return\n",
    "    elif first_sum > last_sum:\n",
    "        print(first_sum)\n",
    "        loser_card = sorted(list(last_set))\n",
    "    else:\n",
    "        print(last_sum)\n",
    "        loser_card = sorted(list(first_set))\n",
    "    for i in loser_card:\n",
    "        print(i, end = ' ')\n",
    "\n",
    "winner = input()\n",
    "n, m = map(int, input().split()) # 미 사용\n",
    "A = list(map(int, input().split()))\n",
    "B = list(map(int, input().split()))\n",
    "\n",
    "if winner == 'A':\n",
    "    solve(A, B, m)\n",
    "else: \n",
    "    solve(B,A, n)"
   ]
  }
 ],
 "metadata": {
  "interpreter": {
   "hash": "a7401fdbc441e771371315dfd74d70672a7e5696f5857508b031491b5c8705db"
  },
  "kernelspec": {
   "display_name": "Python 3.8.10 64-bit ('base': conda)",
   "name": "python3"
  },
  "language_info": {
   "codemirror_mode": {
    "name": "ipython",
    "version": 3
   },
   "file_extension": ".py",
   "mimetype": "text/x-python",
   "name": "python",
   "nbconvert_exporter": "python",
   "pygments_lexer": "ipython3",
   "version": "3.8.10"
  },
  "orig_nbformat": 4
 },
 "nbformat": 4,
 "nbformat_minor": 2
}
