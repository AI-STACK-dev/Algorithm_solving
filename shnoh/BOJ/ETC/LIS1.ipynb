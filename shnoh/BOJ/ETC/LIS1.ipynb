{
 "cells": [
  {
   "cell_type": "code",
   "execution_count": 1,
   "metadata": {},
   "outputs": [
    {
     "name": "stdout",
     "output_type": "stream",
     "text": [
      "4\n"
     ]
    }
   ],
   "source": [
    "# 백준 11053번\n",
    "def LIS_DP(A,n):\n",
    "    DP = [1] * n # 자기자신으로 이루어진 부문자열, 최솟값 1로 초기화\n",
    "    for i in range(1,n):\n",
    "        for j in range(i):\n",
    "            if A[j]<A[i]:\n",
    "                DP[i] = max(DP[i],DP[j] + 1)\n",
    "    return max(DP)\n",
    "\n",
    "n = int(input())\n",
    "A = list(map(int, input().split()))  \n",
    "print(LIS_DP(A,n))"
   ]
  },
  {
   "cell_type": "code",
   "execution_count": 3,
   "metadata": {},
   "outputs": [
    {
     "name": "stdout",
     "output_type": "stream",
     "text": [
      "3\n"
     ]
    }
   ],
   "source": [
    "# 백준 11722번\n",
    "def LDS_DP(A,n):\n",
    "    DP = [1] * n # 자기자신으로 이루어진 부문자열, 최솟값 1로 초기화\n",
    "    for i in range(1,n):\n",
    "        for j in range(i):\n",
    "            if A[j] > A[i]:\n",
    "                DP[i] = max(DP[i],DP[j] + 1)\n",
    "    return max(DP)\n",
    "\n",
    "n = int(input())\n",
    "A = list(map(int, input().split()))\n",
    "print(LDS_DP(A,n))"
   ]
  },
  {
   "cell_type": "code",
   "execution_count": 5,
   "metadata": {},
   "outputs": [
    {
     "name": "stdout",
     "output_type": "stream",
     "text": [
      "113\n"
     ]
    }
   ],
   "source": [
    "# 백준 11055번\n",
    "def BIS_DP(A,n): # Biggist increasing sequence\n",
    "    DP = []\n",
    "    for num in A:\n",
    "        DP.append(num) # 해당 수열으로 끝나는 가장 큰 부분 수열의 합\n",
    "    for i in range(1,n):\n",
    "        for j in range(i):\n",
    "            if A[j] < A[i]:\n",
    "                DP[i] = max(DP[i], DP[j] + A[i])\n",
    "    return max(DP)\n",
    "\n",
    "n = int(input())\n",
    "A = list(map(int, input().split()))\n",
    "print(BIS_DP(A,n))"
   ]
  },
  {
   "cell_type": "code",
   "execution_count": 1,
   "metadata": {},
   "outputs": [
    {
     "name": "stdout",
     "output_type": "stream",
     "text": [
      "0\n"
     ]
    }
   ],
   "source": [
    "# 12015번\n",
    "import sys \n",
    "import math\n",
    "def LIS_DP_log(A, n):\n",
    "    def binary_search(target,left,right): # 이진 탐색\n",
    "        mid = (left+right) // 2\n",
    "        middle = DP[mid]\n",
    "        if middle == target: # 같을 경우, DP를 그대로 유지\n",
    "            return mid\n",
    "        if middle < target and target < DP[mid + 1]: # target이 현재 조사하고 있는 위치의 DP 값보다 크고, 다음 위치의 DP 값보다 작다면, 다음 위치의 DP 값을 갱신한다.\n",
    "            return mid + 1 # DP의 정의가 길이가 k인 부분수열 중 더 작은 수를 저장하는 것이기 때문!\n",
    "        elif middle < target:\n",
    "            return binary_search(target,mid+1,right) # 오른쪽 부분 조사\n",
    "        else:\n",
    "            return binary_search(target,left,mid - 1) # 왼쪽 부분 조사\n",
    "\n",
    "    DP = [math.inf] * (n + 1) # DP[k]는 k개의 부분수열 중 최소값\n",
    "    DP[0] = 0 # DP[1]이 갱신 되도록 하기 위해서, A의 첫수부터 자연스럽게 DP에 저장되도록 하기위함\n",
    "    cur_k = 0 # 현재 k, 즉 현재까지의 LIS의 길이를 저장하는 변수\n",
    "    for num in A: # A를 순회하며\n",
    "        if DP[cur_k] < num: # k가 1 증가하는 경우: 현재까지 저장된 수보다 크므로 LIS 만족\n",
    "            cur_k += 1 # k + 1\n",
    "            DP[cur_k] = num # 증가한 k에 맞춰 현재 수를 DP에 저장\n",
    "        else: # LIS의 길이를 늘리지 못하는 경우, 이전 값들을 최적화. 즉, DP[k]가 LIS k길이의 최소값이도록 갱신\n",
    "            DP[binary_search(num, 0, cur_k)] = num # DP가 오름차순이 되므로, 이진 탐색(logn)으로 갱신할 위치를 찾는다.\n",
    "    return cur_k # A를 마지막까지 순회했을 때의 k: 현재까지의 LIS의 길이\n",
    " \n",
    "n = int(input())\n",
    "A = list(map(int, sys.stdin.readline().split()))\n",
    "print(LIS_DP_log(A,n))"
   ]
  },
  {
   "cell_type": "code",
   "execution_count": null,
   "metadata": {},
   "outputs": [],
   "source": []
  },
  {
   "cell_type": "code",
   "execution_count": 1,
   "metadata": {},
   "outputs": [
    {
     "name": "stdout",
     "output_type": "stream",
     "text": [
      "3\n",
      "10 20 10 30 "
     ]
    }
   ],
   "source": [
    "# 14002번 가장 긴 증가하는 부분 수열 4\n",
    "def LIS_DP_log(A, n):\n",
    "    def binary_search(target,left,right): # 이진 탐색\n",
    "        mid = (left+right) // 2\n",
    "        middle = A[DP[mid]]\n",
    "        if middle == target: # 같을 경우, DP를 그대로 유지\n",
    "            return mid\n",
    "        if middle < target and target < A[DP[mid + 1]]: # target이 현재 조사하고 있는 위치의 DP 값보다 크고, 다음 위치의 DP 값보다 작다면, 다음 위치의 DP 값을 갱신한다.\n",
    "            return mid + 1 # DP의 정의가 길이가 k인 부분수열 중 더 작은 수를 저장하는 것이기 때문!\n",
    "        elif middle < target:\n",
    "            return binary_search(target,mid+1,right) # 오른쪽 부분 조사\n",
    "        else:\n",
    "            return binary_search(target,left,mid - 1) # 왼쪽 부분 조사\n",
    "\n",
    "    DP = [0] * n # DP[k]는 k개의 부분수열 중 최소값의 인덱스\n",
    "    cur_k = 0 # 현재 k, 즉 현재까지의 LIS의 길이를 저장하는 변수\n",
    "    for i in range(1,n): # A를 순회하며\n",
    "        if A[DP[cur_k]] < A[i]: # k가 1 증가하는 경우: 현재까지 저장된 수보다 크므로 LIS 만족\n",
    "            cur_k += 1 # k + 1\n",
    "            DP[cur_k] = i # 증가한 k에 맞춰 현재 수를 DP에 저장\n",
    "        else: # LIS의 길이를 늘리지 못하는 경우, 이전 값들을 최적화. 즉, DP[k]가 LIS k길이의 최소값이도록 갱신\n",
    "            DP[binary_search(A[i], 0, cur_k)] = i # DP가 오름차순이 되므로, 이진 탐색(logn)으로 갱신할 위치를 찾는다.\n",
    "    print(cur_k) # A를 마지막까지 순회했을 때의 k: 현재까지의 LIS의 길이\n",
    "    for i in range(n):\n",
    "        if DP[i] != 0:\n",
    "            print(A[i], end = ' ')\n",
    " \n",
    "n = int(input())\n",
    "A = list(map(int, input().split()))\n",
    "LIS_DP_log(A,n)"
   ]
  },
  {
   "cell_type": "code",
   "execution_count": null,
   "metadata": {},
   "outputs": [],
   "source": []
  }
 ],
 "metadata": {
  "interpreter": {
   "hash": "a7401fdbc441e771371315dfd74d70672a7e5696f5857508b031491b5c8705db"
  },
  "kernelspec": {
   "display_name": "Python 3.8.10 64-bit ('base': conda)",
   "language": "python",
   "name": "python3"
  },
  "language_info": {
   "codemirror_mode": {
    "name": "ipython",
    "version": 3
   },
   "file_extension": ".py",
   "mimetype": "text/x-python",
   "name": "python",
   "nbconvert_exporter": "python",
   "pygments_lexer": "ipython3",
   "version": "3.8.10"
  },
  "orig_nbformat": 4
 },
 "nbformat": 4,
 "nbformat_minor": 2
}
