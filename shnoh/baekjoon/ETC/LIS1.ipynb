{
 "cells": [
  {
   "cell_type": "code",
   "execution_count": 1,
   "metadata": {},
   "outputs": [
    {
     "name": "stdout",
     "output_type": "stream",
     "text": [
      "4\n"
     ]
    }
   ],
   "source": [
    "# 백준 11053번\n",
    "def LIS_DP(A,n):\n",
    "    DP = [1] * n # 자기자신으로 이루어진 부문자열, 최솟값 1로 초기화\n",
    "    for i in range(1,n):\n",
    "        for j in range(i):\n",
    "            if A[j]<A[i]:\n",
    "                DP[i] = max(DP[i],DP[j] + 1)\n",
    "    return max(DP)\n",
    "\n",
    "n = int(input())\n",
    "A = list(map(int, input().split()))  # 알파벳 소문자로만 구성된 string 하나가 입력된다\n",
    "print(LIS_DP(A,n))"
   ]
  },
  {
   "cell_type": "code",
   "execution_count": null,
   "metadata": {},
   "outputs": [],
   "source": []
  }
 ],
 "metadata": {
  "interpreter": {
   "hash": "a7401fdbc441e771371315dfd74d70672a7e5696f5857508b031491b5c8705db"
  },
  "kernelspec": {
   "display_name": "Python 3.8.10 64-bit ('base': conda)",
   "language": "python",
   "name": "python3"
  },
  "language_info": {
   "codemirror_mode": {
    "name": "ipython",
    "version": 3
   },
   "file_extension": ".py",
   "mimetype": "text/x-python",
   "name": "python",
   "nbconvert_exporter": "python",
   "pygments_lexer": "ipython3",
   "version": "3.8.10"
  },
  "orig_nbformat": 4
 },
 "nbformat": 4,
 "nbformat_minor": 2
}
