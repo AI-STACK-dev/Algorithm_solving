{
 "cells": [
  {
   "cell_type": "code",
   "execution_count": 1,
   "metadata": {},
   "outputs": [
    {
     "name": "stdout",
     "output_type": "stream",
     "text": [
      "1\n"
     ]
    }
   ],
   "source": [
    "#단어의 개수\n",
    "A = [x for x in input().split()]\n",
    "print(len(A))"
   ]
  },
  {
   "cell_type": "code",
   "execution_count": null,
   "metadata": {},
   "outputs": [],
   "source": [
    "# 최댓값\n",
    "A=[0]*9\n",
    "for i in range(9):\n",
    "    A[i]=int(input())\n",
    "idx=0\n",
    "Max=A[0]\n",
    "for i in range(9):\n",
    "    if A[i] > Max:\n",
    "        idx = i\n",
    "        Max = A[i]\n",
    "print(Max)\n",
    "print(idx+1)"
   ]
  },
  {
   "cell_type": "code",
   "execution_count": 21,
   "metadata": {},
   "outputs": [
    {
     "name": "stdout",
     "output_type": "stream",
     "text": [
      "A\n"
     ]
    }
   ],
   "source": [
    "from collections import Counter\n",
    "A = list(input().upper())\n",
    "c=Counter(A)\n",
    "Max=c.most_common(n=2)\n",
    "if len(c.keys())==1:\n",
    "    print(Max[0][0])\n",
    "elif Max[0][1] == Max[1][1]:\n",
    "    print(\"?\")\n",
    "else:\n",
    "    print(Max[0][0])\n"
   ]
  },
  {
   "cell_type": "code",
   "execution_count": 1,
   "metadata": {},
   "outputs": [
    {
     "name": "stdout",
     "output_type": "stream",
     "text": [
      "3\n",
      "1\n",
      "0\n",
      "2\n",
      "0\n",
      "0\n",
      "0\n",
      "2\n",
      "0\n",
      "0\n"
     ]
    }
   ],
   "source": [
    "# 숫자의 개수 2577\n",
    "import sys\n",
    "A = int(sys.stdin.readline())\n",
    "B = int(sys.stdin.readline())\n",
    "C = int(sys.stdin.readline())\n",
    "res = A*B*C\n",
    "D=str(res)\n",
    "num_counts = {}\n",
    "for i in range(10):\n",
    "    num_counts[str(i)]= 0\n",
    "for i in D:\n",
    "    temp = num_counts[i]\n",
    "    num_counts[i] = temp+1\n",
    "for i in range(10):\n",
    "    print(num_counts[str(i)])"
   ]
  },
  {
   "cell_type": "code",
   "execution_count": null,
   "metadata": {},
   "outputs": [],
   "source": [
    "A = int(sys.stdin.readline())\n",
    "B = int(sys.stdin.readline())\n",
    "C = int(sys.stdin.readline())\n",
    "A = int(input())\n",
    "B = int(input())\n",
    "C = int(input())"
   ]
  },
  {
   "cell_type": "code",
   "execution_count": 2,
   "metadata": {},
   "outputs": [
    {
     "name": "stdout",
     "output_type": "stream",
     "text": [
      "AAABBBCCC\n",
      "/////HHHHHTTTTTPPPPP\n"
     ]
    }
   ],
   "source": [
    "#문자열 반복 2675\n",
    "T = int(input())\n",
    "for i in range(T):\n",
    "    n, s = input().split()\n",
    "    n = int(n)\n",
    "    res=\"\"\n",
    "    for ch in s:\n",
    "        res+=ch*n\n",
    "    print(res)"
   ]
  },
  {
   "cell_type": "code",
   "execution_count": 6,
   "metadata": {},
   "outputs": [
    {
     "name": "stdout",
     "output_type": "stream",
     "text": [
      "938\n"
     ]
    }
   ],
   "source": [
    "# 상수 2908\n",
    "A, B = input().split()\n",
    "A = int(''.join(reversed(A)))\n",
    "B = int(''.join(reversed(B)))\n",
    "if A > B:\n",
    "    print(A)\n",
    "else:\n",
    "    print(B)\n"
   ]
  },
  {
   "cell_type": "code",
   "execution_count": 10,
   "metadata": {},
   "outputs": [
    {
     "name": "stdout",
     "output_type": "stream",
     "text": [
      "ascending\n"
     ]
    }
   ],
   "source": [
    "# 음계 2920번\n",
    "def discrimainate(A):\n",
    "    last = A[0]\n",
    "    asc=True\n",
    "    des=True\n",
    "\n",
    "    for i in range(1,len(A)):\n",
    "        if last > A[i]:\n",
    "            asc=False\n",
    "        if last < A[i]:\n",
    "            des=False\n",
    "        if (asc is False) and (des is False):\n",
    "            return \"mixed\"\n",
    "        last=A[i]\n",
    "    if asc is True:\n",
    "        return \"ascending\"\n",
    "    if des is True:\n",
    "        return \"descending\"\n",
    "    \n",
    "A = list(map(int,input().split()))\n",
    "print(discrimainate(A))\n"
   ]
  },
  {
   "cell_type": "code",
   "execution_count": 5,
   "metadata": {},
   "outputs": [
    {
     "name": "stdout",
     "output_type": "stream",
     "text": [
      "6\n"
     ]
    }
   ],
   "source": [
    "# 3052번 나머지\n",
    "counter = {} # dictionary 활용\n",
    "for i in range(10):\n",
    "    k = int(input()) % 42\n",
    "    if k not in counter: # 없으면 0\n",
    "        counter[k] = 0\n",
    "    #counter[k] += 1 # 추가하면 counter \n",
    "print(len(counter.keys()))"
   ]
  },
  {
   "cell_type": "code",
   "execution_count": 2,
   "metadata": {},
   "outputs": [
    {
     "name": "stdout",
     "output_type": "stream",
     "text": [
      "10\n",
      "9\n",
      "7\n",
      "55\n",
      "30\n"
     ]
    }
   ],
   "source": [
    "# 8958 OX퀴즈\n",
    "T = int(input())\n",
    "for i in range(T):\n",
    "    s = input()\n",
    "    cnt = 0 # 연속\n",
    "    res = 0 # 점수 합\n",
    "    for c in s:\n",
    "        if c == 'O':\n",
    "            cnt += 1\n",
    "            res += cnt\n",
    "        else:\n",
    "            cnt=0\n",
    "    print(res)"
   ]
  },
  {
   "cell_type": "code",
   "execution_count": null,
   "metadata": {},
   "outputs": [],
   "source": []
  }
 ],
 "metadata": {
  "interpreter": {
   "hash": "a7401fdbc441e771371315dfd74d70672a7e5696f5857508b031491b5c8705db"
  },
  "kernelspec": {
   "display_name": "Python 3.8.10 64-bit ('base': conda)",
   "name": "python3"
  },
  "language_info": {
   "codemirror_mode": {
    "name": "ipython",
    "version": 3
   },
   "file_extension": ".py",
   "mimetype": "text/x-python",
   "name": "python",
   "nbconvert_exporter": "python",
   "pygments_lexer": "ipython3",
   "version": "3.8.10"
  },
  "orig_nbformat": 4
 },
 "nbformat": 4,
 "nbformat_minor": 2
}
