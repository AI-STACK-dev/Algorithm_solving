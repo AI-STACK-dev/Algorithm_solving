{
 "cells": [
  {
   "cell_type": "code",
   "execution_count": 1,
   "metadata": {},
   "outputs": [
    {
     "name": "stdout",
     "output_type": "stream",
     "text": [
      "1\n"
     ]
    }
   ],
   "source": [
    "#단어의 개수\n",
    "A = [x for x in input().split()]\n",
    "print(len(A))"
   ]
  },
  {
   "cell_type": "code",
   "execution_count": null,
   "metadata": {},
   "outputs": [],
   "source": [
    "# 최댓값\n",
    "A=[0]*9\n",
    "for i in range(9):\n",
    "    A[i]=int(input())\n",
    "idx=0\n",
    "Max=A[0]\n",
    "for i in range(9):\n",
    "    if A[i] > Max:\n",
    "        idx = i\n",
    "        Max = A[i]\n",
    "print(Max)\n",
    "print(idx+1)"
   ]
  },
  {
   "cell_type": "code",
   "execution_count": 21,
   "metadata": {},
   "outputs": [
    {
     "name": "stdout",
     "output_type": "stream",
     "text": [
      "A\n"
     ]
    }
   ],
   "source": [
    "from collections import Counter\n",
    "A = list(input().upper())\n",
    "c=Counter(A)\n",
    "Max=c.most_common(n=2)\n",
    "if len(c.keys())==1:\n",
    "    print(Max[0][0])\n",
    "elif Max[0][1] == Max[1][1]:\n",
    "    print(\"?\")\n",
    "else:\n",
    "    print(Max[0][0])\n"
   ]
  },
  {
   "cell_type": "code",
   "execution_count": 1,
   "metadata": {},
   "outputs": [
    {
     "name": "stdout",
     "output_type": "stream",
     "text": [
      "3\n",
      "1\n",
      "0\n",
      "2\n",
      "0\n",
      "0\n",
      "0\n",
      "2\n",
      "0\n",
      "0\n"
     ]
    }
   ],
   "source": [
    "# 숫자의 개수 2577\n",
    "import sys\n",
    "A = int(sys.stdin.readline())\n",
    "B = int(sys.stdin.readline())\n",
    "C = int(sys.stdin.readline())\n",
    "res = A*B*C\n",
    "D=str(res)\n",
    "num_counts = {}\n",
    "for i in range(10):\n",
    "    num_counts[str(i)]= 0\n",
    "for i in D:\n",
    "    temp = num_counts[i]\n",
    "    num_counts[i] = temp+1\n",
    "for i in range(10):\n",
    "    print(num_counts[str(i)])"
   ]
  },
  {
   "cell_type": "code",
   "execution_count": null,
   "metadata": {},
   "outputs": [],
   "source": [
    "A = int(sys.stdin.readline())\n",
    "B = int(sys.stdin.readline())\n",
    "C = int(sys.stdin.readline())\n",
    "A = int(input())\n",
    "B = int(input())\n",
    "C = int(input())"
   ]
  }
 ],
 "metadata": {
  "interpreter": {
   "hash": "a7401fdbc441e771371315dfd74d70672a7e5696f5857508b031491b5c8705db"
  },
  "kernelspec": {
   "display_name": "Python 3.8.10 64-bit ('base': conda)",
   "name": "python3"
  },
  "language_info": {
   "codemirror_mode": {
    "name": "ipython",
    "version": 3
   },
   "file_extension": ".py",
   "mimetype": "text/x-python",
   "name": "python",
   "nbconvert_exporter": "python",
   "pygments_lexer": "ipython3",
   "version": "3.8.10"
  },
  "orig_nbformat": 4
 },
 "nbformat": 4,
 "nbformat_minor": 2
}
