{
 "cells": [
  {
   "cell_type": "code",
   "execution_count": 5,
   "source": [
    "#고양이\r\n",
    "print(\"\\    /\\\\\")\r\n",
    "print(\" )  ( ')\")\r\n",
    "print(\"(  /  )\")\r\n",
    "print(\" \\(__)|\")"
   ],
   "outputs": [
    {
     "output_type": "stream",
     "name": "stdout",
     "text": [
      "\\    /\\\n",
      " )  ( ')\n",
      "(  /  )\n",
      " \\(__)|\n"
     ]
    }
   ],
   "metadata": {}
  },
  {
   "cell_type": "markdown",
   "source": [
    "개"
   ],
   "metadata": {}
  },
  {
   "cell_type": "code",
   "execution_count": 2,
   "source": [
    "print(\"|\\\\_/|\")\r\n",
    "print(\"|q p|   /}\")\r\n",
    "print(\"( 0 )\\\"\\\"\\\"\\\\\")\r\n",
    "print(\"|\\\"^\\\"`    |\")\r\n",
    "print(\"||_/=\\\\\\\\__|\")"
   ],
   "outputs": [
    {
     "output_type": "stream",
     "name": "stdout",
     "text": [
      "|\\_/|\n",
      "|q p|   /}\n",
      "( 0 )\"\"\"\\\n",
      "|\"^\"`    |\n",
      "||_/=\\\\__|\n"
     ]
    }
   ],
   "metadata": {}
  },
  {
   "cell_type": "code",
   "execution_count": 3,
   "source": [
    "A = [int(x) for x in input().split()]\r\n",
    "C = A[0] + A[1]\r\n",
    "print(C)"
   ],
   "outputs": [
    {
     "output_type": "stream",
     "name": "stdout",
     "text": [
      "3\n"
     ]
    }
   ],
   "metadata": {}
  },
  {
   "cell_type": "code",
   "execution_count": 4,
   "source": [
    "A = [int(x) for x in input().split()]\r\n",
    "C = A[0] - A[1]\r\n",
    "print(C)"
   ],
   "outputs": [
    {
     "output_type": "stream",
     "name": "stdout",
     "text": [
      "1\n"
     ]
    }
   ],
   "metadata": {}
  },
  {
   "cell_type": "code",
   "execution_count": 5,
   "source": [
    "A = [int(x) for x in input().split()]\r\n",
    "C = A[0] * A[1]\r\n",
    "print(C)"
   ],
   "outputs": [
    {
     "output_type": "stream",
     "name": "stdout",
     "text": [
      "12\n"
     ]
    }
   ],
   "metadata": {}
  },
  {
   "cell_type": "code",
   "execution_count": 8,
   "source": [
    "A = [int(x) for x in input().split()]\r\n",
    "C1 = A[0] + A[1]\r\n",
    "C2 = A[0] - A[1]\r\n",
    "C3 = A[0] * A[1]\r\n",
    "C4 = A[0] // A[1]\r\n",
    "C5 = A[0] % A[1]\r\n",
    "print(C1)\r\n",
    "print(C2)\r\n",
    "print(C3)\r\n",
    "print(C4)\r\n",
    "print(C5)"
   ],
   "outputs": [
    {
     "output_type": "stream",
     "name": "stdout",
     "text": [
      "10\n",
      "4\n",
      "21\n",
      "2\n",
      "1\n"
     ]
    }
   ],
   "metadata": {}
  },
  {
   "cell_type": "code",
   "execution_count": 9,
   "source": [
    "A = [int(x) for x in input().split()]\r\n",
    "C1 = (A[0] + A[1]) % A[2]\r\n",
    "C2 = ((A[0]%A[2]) + (A[1]%A[2]))%A[2]\r\n",
    "C3 = (A[0] * A[1]) % A[2]\r\n",
    "C4 = ((A[0]%A[2]) * (A[1]%A[2]))%A[2]\r\n",
    "print(C1)\r\n",
    "print(C2)\r\n",
    "print(C3)\r\n",
    "print(C4)"
   ],
   "outputs": [
    {
     "output_type": "stream",
     "name": "stdout",
     "text": [
      "1\n",
      "1\n",
      "0\n",
      "0\n"
     ]
    }
   ],
   "metadata": {}
  },
  {
   "cell_type": "code",
   "execution_count": 11,
   "source": [
    "A = int(input())\r\n",
    "B = input()\r\n",
    "print(A*int(B[2]))\r\n",
    "print(A*int(B[1]))\r\n",
    "print(A*int(B[0]))\r\n",
    "print(A*int(B))"
   ],
   "outputs": [
    {
     "output_type": "stream",
     "name": "stdout",
     "text": [
      "2360\n",
      "3776\n",
      "1416\n",
      "181720\n"
     ]
    }
   ],
   "metadata": {}
  }
 ],
 "metadata": {
  "orig_nbformat": 4,
  "language_info": {
   "name": "python",
   "version": "3.8.10",
   "mimetype": "text/x-python",
   "codemirror_mode": {
    "name": "ipython",
    "version": 3
   },
   "pygments_lexer": "ipython3",
   "nbconvert_exporter": "python",
   "file_extension": ".py"
  },
  "kernelspec": {
   "name": "python3",
   "display_name": "Python 3.8.10 64-bit ('base': conda)"
  },
  "interpreter": {
   "hash": "a7401fdbc441e771371315dfd74d70672a7e5696f5857508b031491b5c8705db"
  }
 },
 "nbformat": 4,
 "nbformat_minor": 2
}