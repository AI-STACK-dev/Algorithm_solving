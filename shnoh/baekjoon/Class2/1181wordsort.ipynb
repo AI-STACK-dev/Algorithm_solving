{
 "cells": [
  {
   "cell_type": "code",
   "execution_count": 13,
   "metadata": {},
   "outputs": [
    {
     "name": "stdout",
     "output_type": "stream",
     "text": [
      "i\n",
      "no\n",
      "but\n",
      "more\n",
      "wont\n",
      "hesitate\n"
     ]
    }
   ],
   "source": [
    "n = int(input())\n",
    "A = []\n",
    "res = []\n",
    "for _ in range(n):\n",
    "    s = input()\n",
    "    A.append([s, len(s)])\n",
    "A.sort(key = lambda s: s[1])\n",
    "\n",
    "last_len = A[0][1]\n",
    "temp = [A[0][0]]\n",
    "last_word = A[0][0]\n",
    "for i in range(1,n):\n",
    "    if A[i][1] != last_len: # 이제 길이가 달라졌으면, \n",
    "        res += sorted(temp)\n",
    "        temp = [A[i][0]]\n",
    "        last_len = A[i][1]\n",
    "    else:\n",
    "        if last_word != A[i][0]:\n",
    "            temp.append(A[i][0])\n",
    "    last_word = A[i][0]\n",
    "res += sorted(temp)\n",
    "for s in res:\n",
    "    print(s)"
   ]
  },
  {
   "cell_type": "code",
   "execution_count": 6,
   "metadata": {},
   "outputs": [
    {
     "name": "stdout",
     "output_type": "stream",
     "text": [
      "[1, 2]\n"
     ]
    }
   ],
   "source": [
    "A = [1,2]\n",
    "B = []\n",
    "B += A\n",
    "print(B)"
   ]
  },
  {
   "cell_type": "code",
   "execution_count": 7,
   "metadata": {},
   "outputs": [
    {
     "name": "stdout",
     "output_type": "stream",
     "text": [
      "[]\n"
     ]
    }
   ],
   "source": [
    "A = []\n",
    "A.sort()\n",
    "print(A)"
   ]
  },
  {
   "cell_type": "code",
   "execution_count": null,
   "metadata": {},
   "outputs": [],
   "source": []
  }
 ],
 "metadata": {
  "interpreter": {
   "hash": "a7401fdbc441e771371315dfd74d70672a7e5696f5857508b031491b5c8705db"
  },
  "kernelspec": {
   "display_name": "Python 3.8.10 64-bit ('base': conda)",
   "name": "python3"
  },
  "language_info": {
   "codemirror_mode": {
    "name": "ipython",
    "version": 3
   },
   "file_extension": ".py",
   "mimetype": "text/x-python",
   "name": "python",
   "nbconvert_exporter": "python",
   "pygments_lexer": "ipython3",
   "version": "3.8.10"
  },
  "orig_nbformat": 4
 },
 "nbformat": 4,
 "nbformat_minor": 2
}
