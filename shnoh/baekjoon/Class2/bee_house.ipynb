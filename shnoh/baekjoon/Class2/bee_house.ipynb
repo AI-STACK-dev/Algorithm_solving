{
 "cells": [
  {
   "cell_type": "code",
   "execution_count": 2,
   "metadata": {},
   "outputs": [
    {
     "name": "stdout",
     "output_type": "stream",
     "text": [
      "3\n"
     ]
    }
   ],
   "source": [
    "# 2292번\n",
    "# 1 + 6까지 2\n",
    "# + 12 까지 3\n",
    "#+ 18까지 4\n",
    "# + 24까지 5\n",
    "n = int(input())\n",
    "cnt = 1\n",
    "num = 1\n",
    "mul = 0\n",
    "while True:\n",
    "    num += 6 * mul\n",
    "    if num < n:\n",
    "        cnt += 1\n",
    "        mul += 1\n",
    "    else:\n",
    "        break\n",
    "print(cnt)"
   ]
  },
  {
   "cell_type": "code",
   "execution_count": null,
   "metadata": {},
   "outputs": [],
   "source": []
  }
 ],
 "metadata": {
  "interpreter": {
   "hash": "a7401fdbc441e771371315dfd74d70672a7e5696f5857508b031491b5c8705db"
  },
  "kernelspec": {
   "display_name": "Python 3.8.10 64-bit ('base': conda)",
   "language": "python",
   "name": "python3"
  },
  "language_info": {
   "codemirror_mode": {
    "name": "ipython",
    "version": 3
   },
   "file_extension": ".py",
   "mimetype": "text/x-python",
   "name": "python",
   "nbconvert_exporter": "python",
   "pygments_lexer": "ipython3",
   "version": "3.8.10"
  },
  "orig_nbformat": 4
 },
 "nbformat": 4,
 "nbformat_minor": 2
}
