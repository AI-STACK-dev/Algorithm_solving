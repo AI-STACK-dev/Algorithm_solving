{
 "cells": [
  {
   "cell_type": "code",
   "execution_count": 1,
   "source": [
    "#단어의 개수\r\n",
    "A = [x for x in input().split()]\r\n",
    "print(len(A))"
   ],
   "outputs": [
    {
     "output_type": "stream",
     "name": "stdout",
     "text": [
      "1\n"
     ]
    }
   ],
   "metadata": {}
  },
  {
   "cell_type": "code",
   "execution_count": null,
   "source": [
    "# 최댓값\r\n",
    "A=[0]*9\r\n",
    "for i in range(9):\r\n",
    "    A[i]=int(input())\r\n",
    "idx=0\r\n",
    "Max=A[0]\r\n",
    "for i in range(9):\r\n",
    "    if A[i] > Max:\r\n",
    "        idx = i\r\n",
    "        Max = A[i]\r\n",
    "print(Max)\r\n",
    "print(idx+1)"
   ],
   "outputs": [],
   "metadata": {}
  },
  {
   "cell_type": "code",
   "execution_count": 21,
   "source": [
    "from collections import Counter\r\n",
    "A = list(input().upper())\r\n",
    "c=Counter(A)\r\n",
    "Max=c.most_common(n=2)\r\n",
    "if len(c.keys())==1:\r\n",
    "    print(Max[0][0])\r\n",
    "elif Max[0][1] == Max[1][1]:\r\n",
    "    print(\"?\")\r\n",
    "else:\r\n",
    "    print(Max[0][0])\r\n"
   ],
   "outputs": [
    {
     "output_type": "stream",
     "name": "stdout",
     "text": [
      "A\n"
     ]
    }
   ],
   "metadata": {}
  },
  {
   "cell_type": "code",
   "execution_count": null,
   "source": [],
   "outputs": [],
   "metadata": {}
  }
 ],
 "metadata": {
  "orig_nbformat": 4,
  "language_info": {
   "name": "python",
   "version": "3.8.10",
   "mimetype": "text/x-python",
   "codemirror_mode": {
    "name": "ipython",
    "version": 3
   },
   "pygments_lexer": "ipython3",
   "nbconvert_exporter": "python",
   "file_extension": ".py"
  },
  "kernelspec": {
   "name": "python3",
   "display_name": "Python 3.8.10 64-bit ('base': conda)"
  },
  "interpreter": {
   "hash": "a7401fdbc441e771371315dfd74d70672a7e5696f5857508b031491b5c8705db"
  }
 },
 "nbformat": 4,
 "nbformat_minor": 2
}