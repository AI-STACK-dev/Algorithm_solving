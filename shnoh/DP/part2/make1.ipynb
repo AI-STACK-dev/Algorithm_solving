{
 "cells": [
  {
   "cell_type": "code",
   "execution_count": null,
   "source": [
    "# 알고리즘 오류!! 26이 2로 나눠져버리네...\r\n",
    "count=0\r\n",
    "def make1(x):\r\n",
    "    global count\r\n",
    "    if x==1: return\r\n",
    "    elif x % 5 == 0:\r\n",
    "        count+=1\r\n",
    "        make1(x//5)\r\n",
    "    elif x % 3 == 0:\r\n",
    "        count+=1\r\n",
    "        make1(x//3)\r\n",
    "    elif x % 2 == 0:\r\n",
    "        count+=1\r\n",
    "        make1(x//2)\r\n",
    "    else: \r\n",
    "        count+=1\r\n",
    "        make1(x-1)\r\n",
    "x = int(input())\r\n",
    "make1(x)\r\n",
    "print(count)"
   ],
   "outputs": [],
   "metadata": {}
  },
  {
   "cell_type": "code",
   "execution_count": 12,
   "source": [
    "x = int(input())\r\n",
    "\r\n",
    "d = [0] * 30001\r\n",
    "\r\n",
    "for i in range(2,x+1):\r\n",
    "    d[i] = d[i-1] + 1\r\n",
    "    if i % 2 == 0:\r\n",
    "        d[i] = min(d[i], d[i//2] +1)\r\n",
    "    if i % 3 == 0:\r\n",
    "        d[i] = min(d[i], d[i//3] +1)\r\n",
    "    if i % 5 == 0:\r\n",
    "        d[i] = min(d[i], d[i//5] +1)\r\n",
    "\r\n",
    "print(d[x])"
   ],
   "outputs": [
    {
     "output_type": "stream",
     "name": "stdout",
     "text": [
      "3\n"
     ]
    }
   ],
   "metadata": {}
  },
  {
   "cell_type": "code",
   "execution_count": null,
   "source": [],
   "outputs": [],
   "metadata": {}
  }
 ],
 "metadata": {
  "orig_nbformat": 4,
  "language_info": {
   "name": "python",
   "version": "3.8.10",
   "mimetype": "text/x-python",
   "codemirror_mode": {
    "name": "ipython",
    "version": 3
   },
   "pygments_lexer": "ipython3",
   "nbconvert_exporter": "python",
   "file_extension": ".py"
  },
  "kernelspec": {
   "name": "python3",
   "display_name": "Python 3.8.10 64-bit ('base': conda)"
  },
  "interpreter": {
   "hash": "a7401fdbc441e771371315dfd74d70672a7e5696f5857508b031491b5c8705db"
  }
 },
 "nbformat": 4,
 "nbformat_minor": 2
}