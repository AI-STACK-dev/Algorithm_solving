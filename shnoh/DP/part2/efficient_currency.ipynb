{
 "cells": [
  {
   "cell_type": "code",
   "execution_count": 10,
   "source": [
    "import math\r\n",
    "n,m = map(int, input().split())\r\n",
    "mList=[0]*n\r\n",
    "DP = [math.inf]*(10001)\r\n",
    "for i in range(n):\r\n",
    "    mList[i] = int(input())\r\n",
    "    DP[mList[i]]= 0\r\n",
    "# print(n,m)\r\n",
    "# print(mList)\r\n",
    "\r\n",
    "for i in range(1,m+1):\r\n",
    "    for j in range(n):\r\n",
    "        if i-mList[j] <0:\r\n",
    "            continue\r\n",
    "        elif DP[i] > DP[i-mList[j]]:\r\n",
    "            DP[i] = DP[i-mList[j]]\r\n",
    "    if DP[i] !=math.inf:\r\n",
    "        DP[i] +=1\r\n",
    "if DP[m] == math.inf:\r\n",
    "    DP[m] = -1\r\n",
    "print(DP[m])\r\n"
   ],
   "outputs": [
    {
     "output_type": "stream",
     "name": "stdout",
     "text": [
      "-1\n"
     ]
    }
   ],
   "metadata": {}
  },
  {
   "cell_type": "code",
   "execution_count": null,
   "source": [],
   "outputs": [],
   "metadata": {}
  }
 ],
 "metadata": {
  "orig_nbformat": 4,
  "language_info": {
   "name": "python",
   "version": "3.8.10",
   "mimetype": "text/x-python",
   "codemirror_mode": {
    "name": "ipython",
    "version": 3
   },
   "pygments_lexer": "ipython3",
   "nbconvert_exporter": "python",
   "file_extension": ".py"
  },
  "kernelspec": {
   "name": "python3",
   "display_name": "Python 3.8.10 64-bit ('base': conda)"
  },
  "interpreter": {
   "hash": "a7401fdbc441e771371315dfd74d70672a7e5696f5857508b031491b5c8705db"
  }
 },
 "nbformat": 4,
 "nbformat_minor": 2
}