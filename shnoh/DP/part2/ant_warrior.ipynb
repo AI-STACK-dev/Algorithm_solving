{
 "cells": [
  {
   "cell_type": "code",
   "execution_count": null,
   "source": [
    "n = int(input())\r\n",
    "A = [int(x) for x in input().split()]\r\n",
    "DP= [0]*n\r\n",
    "\r\n",
    "DP[0] = A[0]\r\n",
    "DP[1] = max(A[0],A[1])\r\n",
    "for i in range(2,n):\r\n",
    "    DP[i] = max(DP[i-2]+A[i],DP[i-1])\r\n",
    "print(DP[n-1])"
   ],
   "outputs": [],
   "metadata": {}
  },
  {
   "cell_type": "code",
   "execution_count": null,
   "source": [],
   "outputs": [],
   "metadata": {}
  }
 ],
 "metadata": {
  "orig_nbformat": 4,
  "language_info": {
   "name": "python",
   "version": "3.8.10",
   "mimetype": "text/x-python",
   "codemirror_mode": {
    "name": "ipython",
    "version": 3
   },
   "pygments_lexer": "ipython3",
   "nbconvert_exporter": "python",
   "file_extension": ".py"
  },
  "kernelspec": {
   "name": "python3",
   "display_name": "Python 3.8.10 64-bit ('base': conda)"
  },
  "interpreter": {
   "hash": "a7401fdbc441e771371315dfd74d70672a7e5696f5857508b031491b5c8705db"
  }
 },
 "nbformat": 4,
 "nbformat_minor": 2
}