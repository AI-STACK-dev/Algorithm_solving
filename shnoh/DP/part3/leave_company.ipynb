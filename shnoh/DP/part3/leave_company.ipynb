{
 "cells": [
  {
   "cell_type": "markdown",
   "metadata": {},
   "source": [
    "## 백준 14501번"
   ]
  },
  {
   "cell_type": "code",
   "execution_count": 2,
   "metadata": {},
   "outputs": [
    {
     "name": "stdout",
     "output_type": "stream",
     "text": [
      "[(1, 2), (3, 4), (5, 6)]\n"
     ]
    }
   ],
   "source": [
    "n = int(input())\n",
    "A=[]\n",
    "for i in range(n):\n",
    "    a,b = map(int, input().split())\n",
    "    A.append((a,b))\n",
    "print(A)"
   ]
  },
  {
   "cell_type": "code",
   "execution_count": 8,
   "metadata": {},
   "outputs": [
    {
     "name": "stdout",
     "output_type": "stream",
     "text": [
      "90\n"
     ]
    }
   ],
   "source": [
    "n = int(input())\n",
    "DP=[0]*(n+1)\n",
    "A=[]\n",
    "for i in range(n):\n",
    "    a,b = map(int, input().split())\n",
    "    A.append((a,b))\n",
    "if A[n-1][0] == 1:\n",
    "    DP[n-1] = A[n-1][1]\n",
    "else:\n",
    "    DP[n-1] = 0\n",
    "for i in range(n-2,-1,-1):\n",
    "    t=A[i][0]\n",
    "    p=A[i][1]\n",
    "    if i+t <= n:\n",
    "        DP[i]=max(DP[i+1], DP[i+t]+p)\n",
    "    else:\n",
    "        DP[i]=DP[i+1]\n",
    "print(DP[0])\n",
    "\n",
    "\n"
   ]
  },
  {
   "cell_type": "code",
   "execution_count": null,
   "metadata": {},
   "outputs": [],
   "source": []
  }
 ],
 "metadata": {
  "interpreter": {
   "hash": "a7401fdbc441e771371315dfd74d70672a7e5696f5857508b031491b5c8705db"
  },
  "kernelspec": {
   "display_name": "Python 3.8.10 64-bit ('base': conda)",
   "name": "python3"
  },
  "language_info": {
   "codemirror_mode": {
    "name": "ipython",
    "version": 3
   },
   "file_extension": ".py",
   "mimetype": "text/x-python",
   "name": "python",
   "nbconvert_exporter": "python",
   "pygments_lexer": "ipython3",
   "version": "3.8.10"
  },
  "orig_nbformat": 4
 },
 "nbformat": 4,
 "nbformat_minor": 2
}
