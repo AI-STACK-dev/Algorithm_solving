{
 "cells": [
  {
   "cell_type": "code",
   "execution_count": 2,
   "metadata": {},
   "outputs": [
    {
     "name": "stdout",
     "output_type": "stream",
     "text": [
      "4\n"
     ]
    }
   ],
   "source": [
    "n = int(input())\n",
    "DP=[0]*1000\n",
    "DP[0]=1\n",
    "S = set()\n",
    "S.add(1)\n",
    "k=2\n",
    "for i in range(1,n):\n",
    "    while True:\n",
    "        if (k/2 in S) or (k/3 in S) or (k/5 in S):\n",
    "            S.add(k)\n",
    "            DP[i]=k\n",
    "            k+=1\n",
    "            break\n",
    "        k+=1\n",
    "print(DP[n-1])"
   ]
  },
  {
   "cell_type": "code",
   "execution_count": null,
   "metadata": {},
   "outputs": [],
   "source": []
  }
 ],
 "metadata": {
  "interpreter": {
   "hash": "a7401fdbc441e771371315dfd74d70672a7e5696f5857508b031491b5c8705db"
  },
  "kernelspec": {
   "display_name": "Python 3.8.10 64-bit ('base': conda)",
   "name": "python3"
  },
  "language_info": {
   "codemirror_mode": {
    "name": "ipython",
    "version": 3
   },
   "file_extension": ".py",
   "mimetype": "text/x-python",
   "name": "python",
   "nbconvert_exporter": "python",
   "pygments_lexer": "ipython3",
   "version": "3.8.10"
  },
  "orig_nbformat": 4
 },
 "nbformat": 4,
 "nbformat_minor": 2
}
