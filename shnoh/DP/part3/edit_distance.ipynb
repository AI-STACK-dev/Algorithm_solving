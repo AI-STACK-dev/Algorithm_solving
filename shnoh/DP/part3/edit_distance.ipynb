{
 "cells": [
  {
   "cell_type": "markdown",
   "metadata": {},
   "source": [
    "## Q36 편집 거리\n",
    "## 백준 15483번 최소 편집"
   ]
  },
  {
   "cell_type": "code",
   "execution_count": 10,
   "metadata": {},
   "outputs": [
    {
     "name": "stdout",
     "output_type": "stream",
     "text": [
      "1 1\n",
      "k:  2\n",
      "2 1\n",
      "1 2\n",
      "k:  3\n",
      "2 2\n",
      "1 3\n",
      "k:  4\n",
      "2 3\n",
      "k:  5\n",
      "2\n"
     ]
    }
   ],
   "source": [
    "A = input()\n",
    "B = input()\n",
    "n=len(A)\n",
    "m=len(B)\n",
    "DP = [[0]*(m+1) for _ in range(n+1)]\n",
    "i=1\n",
    "j=1\n",
    "k=2\n",
    "while True:\n",
    "    if A[i-1] ==B[j-1]:\n",
    "        DP[i][j] = DP[i-1][j-1]+1\n",
    "    else:\n",
    "        DP[i][j] = max(DP[i-1][j],DP[i][j-1])\n",
    "    print(i,j)\n",
    "    j+=1\n",
    "    i-=1\n",
    "    if j==(m+1) or i==0:\n",
    "        print(\"k: \",k)\n",
    "        k+=1\n",
    "        if k==n+m+1:\n",
    "            break\n",
    "        elif k<=n+1:\n",
    "            i=k-1\n",
    "            j=1\n",
    "        else:\n",
    "            i=n\n",
    "            j=k-n\n",
    "print(max(n,m)-DP[n][m])"
   ]
  },
  {
   "cell_type": "code",
   "execution_count": 16,
   "metadata": {},
   "outputs": [
    {
     "name": "stdout",
     "output_type": "stream",
     "text": [
      "2\n"
     ]
    }
   ],
   "source": [
    "def LCS(A,B):\n",
    "    n = len(A)\n",
    "    m = len(B)\n",
    "    DP = [[0]*(m+1) for _ in range(n+1)] # (n+1,M+1) 배열, A[i],B[i]까지의 최장 공통 부문자열\n",
    "    i = j = 1 # i행 j열\n",
    "    k = i + j\n",
    "    while True:\n",
    "        if A[i-1] == B[j-1]:\n",
    "            DP[i][j] = DP[i-1][j-1] + 1\n",
    "        else:\n",
    "            DP[i][j] = max(DP[i-1][j], DP[i][j-1])\n",
    "        # 대각선으로 채우기\n",
    "        j += 1\n",
    "        i -= 1\n",
    "        if j == m + 1 or i == 0: #다음 대각선으로 이동조건\n",
    "            k += 1\n",
    "            if k == n + m + 1: # 종료조건\n",
    "                break\n",
    "            elif k <= n + 1: #왼쪽에 붙어서 다 채우는 동안\n",
    "                i = k-1\n",
    "                j = 1\n",
    "            else:\n",
    "                i = n\n",
    "                j = k - n\n",
    "    return DP[n][m]\n",
    "A = input()\n",
    "B = input()\n",
    "print(LCS(A,B))"
   ]
  },
  {
   "cell_type": "code",
   "execution_count": 24,
   "metadata": {},
   "outputs": [
    {
     "name": "stdout",
     "output_type": "stream",
     "text": [
      "0\n"
     ]
    }
   ],
   "source": [
    "def Edit_Distance(A,B):\n",
    "    n = len(A)\n",
    "    m = len(B)\n",
    "    dp = [[0]*(m+1) for _ in range(n+1)] # (n+1,M+1) 배열, A[i],B[i]까지의 편집거리\n",
    "    #초기값 설정\n",
    "    for i in range(n+1):\n",
    "        dp[i][0] = i\n",
    "    for j in range(m+1):\n",
    "        dp[0][j] = j\n",
    "    for i in range(1,n+1):\n",
    "        for j in range(1,m+1):\n",
    "            if A[i-1] == B[j-1]:# 같으면 수정 불필요\n",
    "                dp[i][j] = dp[i-1][j-1]\n",
    "            else:\n",
    "                dp[i][j] = min(dp[i-1][j-1], dp[i][j-1], dp[i-1][j]) + 1 # 삽입, 삭제, 교체\n",
    "    return dp[n][m]\n",
    "A = input()\n",
    "B = input()\n",
    "print(Edit_Distance(A,B))"
   ]
  },
  {
   "cell_type": "code",
   "execution_count": null,
   "metadata": {},
   "outputs": [],
   "source": []
  }
 ],
 "metadata": {
  "interpreter": {
   "hash": "a7401fdbc441e771371315dfd74d70672a7e5696f5857508b031491b5c8705db"
  },
  "kernelspec": {
   "display_name": "Python 3.8.10 64-bit ('base': conda)",
   "name": "python3"
  },
  "language_info": {
   "codemirror_mode": {
    "name": "ipython",
    "version": 3
   },
   "file_extension": ".py",
   "mimetype": "text/x-python",
   "name": "python",
   "nbconvert_exporter": "python",
   "pygments_lexer": "ipython3",
   "version": "3.8.10"
  },
  "orig_nbformat": 4
 },
 "nbformat": 4,
 "nbformat_minor": 2
}
