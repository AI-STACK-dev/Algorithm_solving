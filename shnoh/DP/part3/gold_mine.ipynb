{
 "cells": [
  {
   "cell_type": "code",
   "execution_count": 12,
   "metadata": {},
   "outputs": [
    {
     "name": "stdout",
     "output_type": "stream",
     "text": [
      "16\n"
     ]
    }
   ],
   "source": [
    "#DP 문제 금광\n",
    "import numpy as np\n",
    "\n",
    "T= int(input())\n",
    "for i in range(T):\n",
    "    n,m = map(int, input().split())\n",
    "    array = np.zeros((n,m),dtype=np.int8)\n",
    "    for idx, size in enumerate(map(int, input().split())):\n",
    "        #print(idx, size)\n",
    "        row = idx // m\n",
    "        col = idx % m\n",
    "        array[row][col] = size\n",
    "DP = np.zeros((n,m),dtype=np.int8)\n",
    "for i in range(n):\n",
    "    DP[i][0]=array[i][0]\n",
    "for j in range(1,m):\n",
    "    for i in range(n):\n",
    "        Max=DP[i][j-1]\n",
    "        if i>0:\n",
    "            Max=max(Max,DP[i-1][j-1])\n",
    "        if i<n-1:\n",
    "            Max=max(Max,DP[i+1][j-1])\n",
    "        DP[i][j] = Max + array[i][j]\n",
    "Max = 0\n",
    "for i in range(n):\n",
    "    Max=max(Max,DP[i][m-1])\n",
    "print(Max)\n"
   ]
  },
  {
   "cell_type": "code",
   "execution_count": 2,
   "metadata": {},
   "outputs": [
    {
     "data": {
      "text/plain": [
       "0.6666666666666666"
      ]
     },
     "execution_count": 2,
     "metadata": {},
     "output_type": "execute_result"
    }
   ],
   "source": [
    "2/3"
   ]
  },
  {
   "cell_type": "code",
   "execution_count": null,
   "metadata": {},
   "outputs": [],
   "source": []
  }
 ],
 "metadata": {
  "interpreter": {
   "hash": "a7401fdbc441e771371315dfd74d70672a7e5696f5857508b031491b5c8705db"
  },
  "kernelspec": {
   "display_name": "Python 3.8.10 64-bit ('base': conda)",
   "name": "python3"
  },
  "language_info": {
   "codemirror_mode": {
    "name": "ipython",
    "version": 3
   },
   "file_extension": ".py",
   "mimetype": "text/x-python",
   "name": "python",
   "nbconvert_exporter": "python",
   "pygments_lexer": "ipython3",
   "version": "3.8.10"
  },
  "orig_nbformat": 4
 },
 "nbformat": 4,
 "nbformat_minor": 2
}
