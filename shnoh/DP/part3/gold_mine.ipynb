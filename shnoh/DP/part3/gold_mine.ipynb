{
 "cells": [
  {
   "cell_type": "code",
   "execution_count": null,
   "metadata": {},
   "outputs": [],
   "source": [
    "import numpy as np\n",
    "T= int(input())\n",
    "for i in range(T):\n",
    "    n,m = map(int, input().split())\n",
    "    [ [] for j in map(int, input().split())]\n",
    "    np.array()\n"
   ]
  }
 ],
 "metadata": {
  "language_info": {
   "name": "python"
  },
  "orig_nbformat": 4
 },
 "nbformat": 4,
 "nbformat_minor": 2
}
