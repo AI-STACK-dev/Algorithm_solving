{
 "cells": [
  {
   "cell_type": "markdown",
   "metadata": {},
   "source": [
    "## 백준 1932번"
   ]
  },
  {
   "cell_type": "code",
   "execution_count": 8,
   "metadata": {},
   "outputs": [
    {
     "name": "stdout",
     "output_type": "stream",
     "text": [
      "30\n"
     ]
    }
   ],
   "source": [
    "import numpy as np  \n",
    "n = int(input())\n",
    "A = np.zeros((n,n),dtype=np.int8)\n",
    "for i in range(n):\n",
    "    for idx, num in enumerate(map(int, input().split())):\n",
    "        A[i][idx]= num\n",
    "DP = np.zeros((n,n),dtype=np.int8)\n",
    "DP[0][0] = A[0][0]\n",
    "\n",
    "for i in range(1,n):\n",
    "    for j in range(n):\n",
    "        if j == 0:\n",
    "            DP[i][j] = DP[i-1][j] + A[i][j]\n",
    "        else:\n",
    "            DP[i][j] = max(DP[i-1][j],DP[i-1][j-1]) + A[i][j]\n",
    "print(max(DP[n-1]))\n"
   ]
  },
  {
   "cell_type": "code",
   "execution_count": null,
   "metadata": {},
   "outputs": [],
   "source": [
    "import numpy as np\n",
    "import sys \n",
    "    \n",
    "n = int(sys.stdin.readline())\n",
    "A = np.zeros((n,n),dtype=np.int8)\n",
    "for i in range(n):\n",
    "    for idx, num in enumerate(map(int, sys.stdin.readline().split())):\n",
    "        A[i][idx]= num\n",
    "DP = np.zeros((n,n),dtype=np.int8)\n",
    "DP[0][0] = A[0][0]\n",
    "\n",
    "for i in range(1,n):\n",
    "    for j in range(n):\n",
    "        if j == 0:\n",
    "            DP[i][j] = DP[i-1][j] + A[i][j]\n",
    "        else:\n",
    "            DP[i][j] = max(DP[i-1][j],DP[i-1][j-1]) + A[i][j]\n",
    "print(max(DP[n-1]))\n"
   ]
  },
  {
   "cell_type": "code",
   "execution_count": null,
   "metadata": {},
   "outputs": [],
   "source": [
    "import sys \n",
    "\n",
    "n = int(sys.stdin.readline())\n",
    "A = [[0]*(n) for i in range(n)]\n",
    "for i in range(n):\n",
    "    for idx, num in enumerate(map(int, sys.stdin.readline().split())):\n",
    "        A[i][idx]= num\n",
    "DP = [[0]*(n) for i in range(n)]\n",
    "DP[0][0] = A[0][0]\n",
    "\n",
    "for i in range(1,n):\n",
    "    for j in range(n):\n",
    "        if j == 0:\n",
    "            DP[i][j] = DP[i-1][j] + A[i][j]\n",
    "        else:\n",
    "            DP[i][j] = max(DP[i-1][j],DP[i-1][j-1]) + A[i][j]\n",
    "print(max(DP[n-1]))\n"
   ]
  },
  {
   "cell_type": "code",
   "execution_count": 9,
   "metadata": {},
   "outputs": [
    {
     "name": "stdout",
     "output_type": "stream",
     "text": [
      "30\n"
     ]
    }
   ],
   "source": [
    "import sys \n",
    "\n",
    "n = int(input())\n",
    "A = [[0]*(n) for i in range(n)]\n",
    "for i in range(n):\n",
    "    for idx, num in enumerate(map(int, input().split())):\n",
    "        A[i][idx]= num\n",
    "DP = [[0]*(n) for i in range(n)]\n",
    "DP[0][0] = A[0][0]\n",
    "\n",
    "for i in range(1,n):\n",
    "    for j in range(n):\n",
    "        if j == 0:\n",
    "            DP[i][j] = DP[i-1][j] + A[i][j]\n",
    "        else:\n",
    "            DP[i][j] = max(DP[i-1][j],DP[i-1][j-1]) + A[i][j]\n",
    "print(max(DP[n-1]))"
   ]
  },
  {
   "cell_type": "code",
   "execution_count": null,
   "metadata": {},
   "outputs": [],
   "source": []
  }
 ],
 "metadata": {
  "interpreter": {
   "hash": "a7401fdbc441e771371315dfd74d70672a7e5696f5857508b031491b5c8705db"
  },
  "kernelspec": {
   "display_name": "Python 3.8.10 64-bit ('base': conda)",
   "name": "python3"
  },
  "language_info": {
   "codemirror_mode": {
    "name": "ipython",
    "version": 3
   },
   "file_extension": ".py",
   "mimetype": "text/x-python",
   "name": "python",
   "nbconvert_exporter": "python",
   "pygments_lexer": "ipython3",
   "version": "3.8.10"
  },
  "orig_nbformat": 4
 },
 "nbformat": 4,
 "nbformat_minor": 2
}
