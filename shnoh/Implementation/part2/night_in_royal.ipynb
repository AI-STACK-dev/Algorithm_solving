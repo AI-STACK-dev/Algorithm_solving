{
 "cells": [
  {
   "cell_type": "code",
   "execution_count": 1,
   "metadata": {},
   "outputs": [
    {
     "name": "stdout",
     "output_type": "stream",
     "text": [
      "2\n"
     ]
    }
   ],
   "source": [
    "s = input()\n",
    "x = ord(s[0]) - 96\n",
    "y = int(s[1])\n",
    "#print(x,y)\n",
    "cnt  = 0\n",
    "X = [-2,-1,1,2]\n",
    "Y = [1,2,2,1]\n",
    "for i in range(4):\n",
    "    tx = x + X[i]\n",
    "    ty = y + Y[i]\n",
    "    tty = y - Y[i]\n",
    "    if tx > 0 and tx < 9 and ty > 0 and ty < 9:\n",
    "        cnt += 1\n",
    "    if tx > 0 and tx < 9 and tty > 0 and tty < 9:\n",
    "        cnt += 1\n",
    "print(cnt)"
   ]
  }
 ],
 "metadata": {
  "interpreter": {
   "hash": "a7401fdbc441e771371315dfd74d70672a7e5696f5857508b031491b5c8705db"
  },
  "kernelspec": {
   "display_name": "Python 3.8.10 64-bit ('base': conda)",
   "name": "python3"
  },
  "language_info": {
   "codemirror_mode": {
    "name": "ipython",
    "version": 3
   },
   "file_extension": ".py",
   "mimetype": "text/x-python",
   "name": "python",
   "nbconvert_exporter": "python",
   "pygments_lexer": "ipython3",
   "version": "3.8.10"
  },
  "orig_nbformat": 4
 },
 "nbformat": 4,
 "nbformat_minor": 2
}
