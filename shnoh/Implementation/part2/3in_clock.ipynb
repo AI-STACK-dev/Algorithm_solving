{
 "cells": [
  {
   "cell_type": "code",
   "execution_count": null,
   "metadata": {},
   "outputs": [],
   "source": [
    "n = int(input())\n",
    "h = m = s = 0\n",
    "cnt = 0\n",
    "while h < n + 1:\n",
    "    string = str(h) + str(m) + str(s)\n",
    "    if '3' in string:\n",
    "        cnt += 1\n",
    "    s+=1\n",
    "    if s == 60:\n",
    "        m += 1\n",
    "        s = 0\n",
    "    if m == 60:\n",
    "        h += 1\n",
    "        m = 0\n",
    "print(cnt)"
   ]
  }
 ],
 "metadata": {
  "language_info": {
   "name": "python"
  },
  "orig_nbformat": 4
 },
 "nbformat": 4,
 "nbformat_minor": 2
}
