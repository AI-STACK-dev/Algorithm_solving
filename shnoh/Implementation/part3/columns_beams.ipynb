{
 "cells": [
  {
   "cell_type": "code",
   "execution_count": 7,
   "metadata": {},
   "outputs": [
    {
     "name": "stdout",
     "output_type": "stream",
     "text": [
      "[[0, 0, 0], [0, 1, 1], [2, 1, 1], [3, 1, 1], [4, 0, 0]]\n"
     ]
    }
   ],
   "source": [
    "\n",
    "def satisfy(build, A): # 작업과 현재 상태\n",
    "    if build[3] == 1: #설치인 경우\n",
    "        if build[2] == 0: # 기둥이면\n",
    "            if build[1] == 0 or A[build[0]][build[1] - 1] == 0 or A[build[0] - 1][build[1]] == 1: # 바닥이거나, 기둥이 있거나, 보가 있거나\n",
    "                return True\n",
    "            else:\n",
    "                return False\n",
    "        else: # 보이면\n",
    "            if A[build[0] + 1][build[1] - 1] == 0 or A[build[0]][build[1] - 1] == 0 or ( (A[build[0] - 1][build[1]] == 1) and (A[build[0] + 1][build[1]] == 1) ): # 기둥이 있거나(왼, 오), 양쪽에 보가 있거나\n",
    "                return True\n",
    "            else:\n",
    "                return False\n",
    "    else: # 삭제인 경우\n",
    "        if build[2] == 0: # 기둥이면 위 양쪽으로 보가 있는 경우 가능\n",
    "            if build[0] and A[build[0] - 1][build[1] + 1] == 1 and A[build[0]][build[1] + 1] == 1: # and build[0] < n 생략 가능\n",
    "                return True\n",
    "            else:\n",
    "                return False\n",
    "        else: # 보이면\n",
    "            if A[build[0]][build[1]] == 1 or A[build[0]][build[1]] == 2: # 기둥이 있는데\n",
    "                return False\n",
    "            else:\n",
    "                return True\n",
    "\n",
    "\n",
    "def solution(n, build_frame):\n",
    "    A = [[-1] * (n+1) for _ in range(n+1)] # -1 아무것도 없다. 0 기둥, 1 보, 2 둘다! i,j -> x,y에 대응!\n",
    "    for build in build_frame: # 지을 수 있으면\n",
    "        if satisfy(build, A):\n",
    "            if build[3] == 1: # 설치\n",
    "                A[build[0]][build[1]] += build[2] + 1 # 두개 동시에 있는 문제 해결을 위한 도입! +1!\n",
    "            else: # 삭제\n",
    "                A[build[0]][build[1]] -= build[2] + 1\n",
    "    answer = []\n",
    "    for i in range(n+1):\n",
    "        for j in range(n+1):\n",
    "            if A[i][j] == 2: # 둘 다 있으면\n",
    "                answer.append([i,j,0])\n",
    "                answer.append([i,j,1])\n",
    "            elif A[i][j] >= 0: # 하나만 있으면\n",
    "                answer.append([i,j,A[i][j]])\n",
    "    return answer\n",
    "\n",
    "n = 5\n",
    "# build_frame = [[1,0,0,1],[1,1,1,1],[2,1,0,1],[2,2,1,1],[5,0,0,1],[5,1,0,1],[4,2,1,1],[3,2,1,1]]\n",
    "build_frame = [[0,0,0,1],[2,0,0,1],[4,0,0,1],[0,1,1,1],[1,1,1,1],[2,1,1,1],[3,1,1,1],[2,0,0,0],[1,1,1,0],[2,2,0,1]]\n",
    "print(solution(n, build_frame))"
   ]
  },
  {
   "cell_type": "code",
   "execution_count": 9,
   "metadata": {},
   "outputs": [],
   "source": [
    "if 0:\n",
    "    print(\"d\")"
   ]
  },
  {
   "cell_type": "code",
   "execution_count": null,
   "metadata": {},
   "outputs": [],
   "source": []
  }
 ],
 "metadata": {
  "interpreter": {
   "hash": "a7401fdbc441e771371315dfd74d70672a7e5696f5857508b031491b5c8705db"
  },
  "kernelspec": {
   "display_name": "Python 3.8.10 64-bit ('base': conda)",
   "name": "python3"
  },
  "language_info": {
   "codemirror_mode": {
    "name": "ipython",
    "version": 3
   },
   "file_extension": ".py",
   "mimetype": "text/x-python",
   "name": "python",
   "nbconvert_exporter": "python",
   "pygments_lexer": "ipython3",
   "version": "3.8.10"
  },
  "orig_nbformat": 4
 },
 "nbformat": 4,
 "nbformat_minor": 2
}
