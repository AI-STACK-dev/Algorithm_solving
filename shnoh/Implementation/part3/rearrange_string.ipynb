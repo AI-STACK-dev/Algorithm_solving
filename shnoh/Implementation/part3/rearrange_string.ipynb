{
 "cells": [
  {
   "cell_type": "code",
   "execution_count": 5,
   "metadata": {},
   "outputs": [
    {
     "name": "stdout",
     "output_type": "stream",
     "text": [
      "AKK6"
     ]
    }
   ],
   "source": [
    "S = input()\n",
    "Sum = 0\n",
    "A = []\n",
    "for c in S:\n",
    "    if ord(c) >= 48 and ord(c) <= 57:\n",
    "        Sum+= int(c)\n",
    "    else:\n",
    "        A.append(c)\n",
    "B = [c for c in str(Sum)]\n",
    "res = sorted(A) + B\n",
    "for c in res:\n",
    "    print(c, end= '')"
   ]
  },
  {
   "cell_type": "code",
   "execution_count": null,
   "metadata": {},
   "outputs": [],
   "source": []
  }
 ],
 "metadata": {
  "interpreter": {
   "hash": "a7401fdbc441e771371315dfd74d70672a7e5696f5857508b031491b5c8705db"
  },
  "kernelspec": {
   "display_name": "Python 3.8.10 64-bit ('base': conda)",
   "name": "python3"
  },
  "language_info": {
   "codemirror_mode": {
    "name": "ipython",
    "version": 3
   },
   "file_extension": ".py",
   "mimetype": "text/x-python",
   "name": "python",
   "nbconvert_exporter": "python",
   "pygments_lexer": "ipython3",
   "version": "3.8.10"
  },
  "orig_nbformat": 4
 },
 "nbformat": 4,
 "nbformat_minor": 2
}
