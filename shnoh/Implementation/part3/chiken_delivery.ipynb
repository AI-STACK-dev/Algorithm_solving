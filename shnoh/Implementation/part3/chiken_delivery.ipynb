{
 "cells": [
  {
   "cell_type": "code",
   "execution_count": 4,
   "metadata": {},
   "outputs": [
    {
     "name": "stdout",
     "output_type": "stream",
     "text": [
      "10\n"
     ]
    }
   ],
   "source": [
    "# 치킨 개수를 세면서 리스트에 추가하고, 그 중 m개를 고르는 경우의 수는? kCm, \n",
    "# 각 경우에 대해서 각 집마다 치킨 거리를 구한다! 각 좌표를 알고 있으므로!! 그 중 min() 을 다 더해서\n",
    "# 그렇게 모든 경우의 치킨거리합 중 최소가 답\n",
    "from itertools import combinations\n",
    "\n",
    "n, m = map(int, input().split())\n",
    "Map = []\n",
    "original_chiken_houses = []\n",
    "houses = []\n",
    "for i in range(n):\n",
    "    Map.append(list(map(int, input().split())))\n",
    "\n",
    "for i in range(n):\n",
    "    for j in range(n):\n",
    "        if Map[i][j] == 1: # 집 리스트\n",
    "            houses.append((i,j))\n",
    "        elif Map[i][j] == 2: # 치킨 리스트\n",
    "            original_chiken_houses.append((i,j))\n",
    "\n",
    "chiken_houses_combinations = list(combinations(original_chiken_houses, m)) # kCm, k개의 치킨집 중 m개를 뽑는 조합\n",
    "\n",
    "min_chiken_distance = len(houses) * n * 2 # 최소 도시의 치킨 거리 변수, 넘을 수 없는 치킨 거리로 초기화\n",
    "for chiken_houses in chiken_houses_combinations: # 모든 조합 경우의 수에 대해서\n",
    "    chiken_distances = 0 # 각 경우의 도시의 치킨 거리\n",
    "    for loc in houses: # 각 집을 돌며, \n",
    "        min_distance = n * 2\n",
    "        for j in range(m): # 치킨 집을 돌며,\n",
    "            min_distance = min(min_distance, abs(loc[0] - chiken_houses[j][0]) + abs(loc[1] - chiken_houses[j][1]))  # 각 치킨집에 대해서 최소 치킨 거리 구하기\n",
    "            # 치킨집 거리는 집과 치킨집의 x,y 좌표 차이\n",
    "        chiken_distances +=  min_distance # 각 집의 치킨 거리 더하기       \n",
    "    min_chiken_distance = min(min_chiken_distance, chiken_distances)\n",
    "print(min_chiken_distance)"
   ]
  },
  {
   "cell_type": "markdown",
   "metadata": {},
   "source": [
    "case 2: chiken_houses_combinations\n",
    "[((0, 1), (3, 0)), ((0, 1), (4, 0)), ((0, 1), (4, 1)), ((0, 1), (4, 4)), ((3, 0), (4, 0)), ((3, 0), (4, 1)), ((3, 0), (4, 4)), ((4, 0), (4, 1)), ((4, 0), (4, 4)), ((4, 1), (4, 4))]"
   ]
  },
  {
   "cell_type": "code",
   "execution_count": null,
   "metadata": {},
   "outputs": [],
   "source": []
  }
 ],
 "metadata": {
  "interpreter": {
   "hash": "a7401fdbc441e771371315dfd74d70672a7e5696f5857508b031491b5c8705db"
  },
  "kernelspec": {
   "display_name": "Python 3.8.10 64-bit ('base': conda)",
   "name": "python3"
  },
  "language_info": {
   "codemirror_mode": {
    "name": "ipython",
    "version": 3
   },
   "file_extension": ".py",
   "mimetype": "text/x-python",
   "name": "python",
   "nbconvert_exporter": "python",
   "pygments_lexer": "ipython3",
   "version": "3.8.10"
  },
  "orig_nbformat": 4
 },
 "nbformat": 4,
 "nbformat_minor": 2
}
