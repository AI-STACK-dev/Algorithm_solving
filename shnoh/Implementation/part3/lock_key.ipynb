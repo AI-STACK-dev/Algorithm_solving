{
 "cells": [
  {
   "cell_type": "code",
   "execution_count": 1,
   "metadata": {},
   "outputs": [
    {
     "name": "stdout",
     "output_type": "stream",
     "text": [
      "True\n"
     ]
    }
   ],
   "source": [
    "def rotate_matrix_90(A):\n",
    "    n = len(A)\n",
    "    m = len(A[0])\n",
    "    result  = [[0]*n for _ in range(m)]\n",
    "    for i in range(n):\n",
    "        for j in range(m):\n",
    "            result[j][n-i-1] = A[i][j]\n",
    "    return result\n",
    "def check(A, n, m): # A는 확대한 lock + key\n",
    "    for i in range(m-1, n+m-1):\n",
    "        for j in range(m-1, n+m-1):\n",
    "            if A[i][j] != 1:\n",
    "                return False\n",
    "    return True\n",
    "\n",
    "def solution(key, lock):\n",
    "    m = len(key)\n",
    "    n = len(lock)\n",
    "    NN = n + 2 * m - 2\n",
    "    big_lock = [[0] * NN for _ in range(NN)] # 1개라도 key와 lock이 겹치는 범위로 0 padding 추가\n",
    "    for i in range(n):\n",
    "        for j in range(n):\n",
    "            big_lock[i+m-1][j+m-1] = lock[i][j]\n",
    "    \n",
    "    for _ in range(4):\n",
    "        key = rotate_matrix_90(key)\n",
    "        for x in range(n + m - 1):\n",
    "            for y in range(n + m - 1):\n",
    "                for i in range(m):\n",
    "                    for j in range(m):\n",
    "                        big_lock[x+i][y+j] += key[i][j]\n",
    "                if check(big_lock,n,m) == True:\n",
    "                    return True\n",
    "                for i in range(m):\n",
    "                    for j in range(m):\n",
    "                        big_lock[x+i][y+j] -= key[i][j]\n",
    "    return False\n",
    "key = [[0,0,0],[1,0,0],[0,1,1]]\n",
    "lock = [[1,1,1],[1,1,0],[1,0,1]]\n",
    "print(solution(key,lock))"
   ]
  },
  {
   "cell_type": "code",
   "execution_count": null,
   "metadata": {},
   "outputs": [],
   "source": []
  }
 ],
 "metadata": {
  "interpreter": {
   "hash": "a7401fdbc441e771371315dfd74d70672a7e5696f5857508b031491b5c8705db"
  },
  "kernelspec": {
   "display_name": "Python 3.8.10 64-bit ('base': conda)",
   "name": "python3"
  },
  "language_info": {
   "codemirror_mode": {
    "name": "ipython",
    "version": 3
   },
   "file_extension": ".py",
   "mimetype": "text/x-python",
   "name": "python",
   "nbconvert_exporter": "python",
   "pygments_lexer": "ipython3",
   "version": "3.8.10"
  },
  "orig_nbformat": 4
 },
 "nbformat": 4,
 "nbformat_minor": 2
}
