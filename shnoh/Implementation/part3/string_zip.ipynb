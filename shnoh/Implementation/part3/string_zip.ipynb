{
 "cells": [
  {
   "cell_type": "code",
   "execution_count": 13,
   "metadata": {},
   "outputs": [
    {
     "name": "stdout",
     "output_type": "stream",
     "text": [
      "9\n"
     ]
    }
   ],
   "source": [
    "def solution(s):\n",
    "    n = len(s)\n",
    "    m = n // 2 # 중간수, 압축 최대 수\n",
    "    Min = n # 출력값, i개 단위를 돌며, 최솟값 갱신\n",
    "    for i in range(1,m+1): # i 는 압축 개수 \n",
    "        cnt = n # 현 압축 개수의 결과\n",
    "        j = i # s 문자열 순회를 위한 수\n",
    "        last = s[0:i] # 첫 압축 단위 배열, 이전 압축 단위 배열\n",
    "        repetition = 1\n",
    "        while j<n:\n",
    "            cur = s[j:i+j] # 현재 압축 단위 배열\n",
    "            if last == cur: # 반복 된다면!\n",
    "                cnt -= i # 압축 단위만큼 감소!\n",
    "                repetition += 1\n",
    "            elif repetition > 1: # 반복이 끝났다.\n",
    "                cnt += len(str(repetition)) # 숫자 하나 추가!\n",
    "                repetition = 1\n",
    "            last = cur # 현재는 과거가 되고\n",
    "            j = j+i # 압축 개수만큼 전진\n",
    "        if repetition > 1:\n",
    "            cnt += len(str(repetition))\n",
    "        Min = min(Min,cnt) # 최솟값 갱신\n",
    "    return Min\n",
    "s = input()\n",
    "print(solution(s))"
   ]
  },
  {
   "cell_type": "markdown",
   "metadata": {},
   "source": [
    "74점\n",
    "추가 경우는...\n",
    "문자가 10개 이상 반복될 수 있잖아?"
   ]
  },
  {
   "cell_type": "code",
   "execution_count": 3,
   "metadata": {},
   "outputs": [
    {
     "name": "stdout",
     "output_type": "stream",
     "text": [
      "asd\n"
     ]
    }
   ],
   "source": [
    "s= \"asd\"\n",
    "print(s[:3])"
   ]
  },
  {
   "cell_type": "code",
   "execution_count": 4,
   "metadata": {},
   "outputs": [
    {
     "name": "stdout",
     "output_type": "stream",
     "text": [
      "yes\n"
     ]
    }
   ],
   "source": [
    "if 'abc' == 'abc':\n",
    "    print(\"yes\")"
   ]
  },
  {
   "cell_type": "markdown",
   "metadata": {},
   "source": [
    "n=9일때\n",
    "m=4\n",
    "\n",
    "M+1!!\n",
    "n=8\n",
    "m=4"
   ]
  },
  {
   "cell_type": "code",
   "execution_count": null,
   "metadata": {},
   "outputs": [],
   "source": [
    "# 모범 코드\n",
    "def compress(text, tok_len):\n",
    "    words = [text[i:i+tok_len] for i in range(0, len(text), tok_len)]\n",
    "    res = []\n",
    "    cur_word = words[0]\n",
    "    cur_cnt = 1\n",
    "    for a, b in zip(words, words[1:] + ['']):\n",
    "        if a == b:\n",
    "            cur_cnt += 1\n",
    "        else:\n",
    "            res.append([cur_word, cur_cnt])\n",
    "            cur_word = b\n",
    "            cur_cnt = 1\n",
    "    return sum(len(word) + (len(str(cnt)) if cnt > 1 else 0) for word, cnt in res)\n",
    "\n",
    "def solution(text):\n",
    "    return min(compress(text, tok_len) for tok_len in list(range(1, int(len(text)/2) + 1)) + [len(text)])\n",
    "\n",
    "a = [\n",
    "    \"aabbaccc\",\n",
    "    \"ababcdcdababcdcd\",\n",
    "    \"abcabcdede\",\n",
    "    \"abcabcabcabcdededededede\",\n",
    "    \"xababcdcdababcdcd\",\n",
    "    'aaaaaa',\n",
    "]\n",
    "\n",
    "for x in a:\n",
    "    print(solution(x))"
   ]
  }
 ],
 "metadata": {
  "interpreter": {
   "hash": "a7401fdbc441e771371315dfd74d70672a7e5696f5857508b031491b5c8705db"
  },
  "kernelspec": {
   "display_name": "Python 3.8.10 64-bit ('base': conda)",
   "name": "python3"
  },
  "language_info": {
   "codemirror_mode": {
    "name": "ipython",
    "version": 3
   },
   "file_extension": ".py",
   "mimetype": "text/x-python",
   "name": "python",
   "nbconvert_exporter": "python",
   "pygments_lexer": "ipython3",
   "version": "3.8.10"
  },
  "orig_nbformat": 4
 },
 "nbformat": 4,
 "nbformat_minor": 2
}
