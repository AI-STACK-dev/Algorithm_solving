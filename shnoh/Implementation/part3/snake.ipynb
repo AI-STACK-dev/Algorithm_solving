{
 "cells": [
  {
   "cell_type": "code",
   "execution_count": 11,
   "metadata": {},
   "outputs": [
    {
     "name": "stdout",
     "output_type": "stream",
     "text": [
      "21\n"
     ]
    }
   ],
   "source": [
    "from collections import deque # queue 구현을 위해\n",
    "#지렁이 머리 넣고, 사과 안 먹었으면 꼬리 뺀다.\n",
    "n = int(input())\n",
    "Map = [[0] * n for _ in range(n)] # 0 은 없는 것, 1은 뱀\n",
    "queue = deque()\n",
    "k = int(input()) # 사과 배치하기\n",
    "for i in range(k):\n",
    "    r,c = map(int,input().split())\n",
    "    Map[r-1][c-1] = 2 # 사과는 2, idx 기준으로 배치\n",
    "# \n",
    "rotation = deque() # 방향전환 정보 queue\n",
    "L = int(input())\n",
    "for i in range(L):\n",
    "    sec,direction = input().split()\n",
    "    rotation.append((int(sec), direction))\n",
    "sec = 0\n",
    "\n",
    "# 방향전환용\n",
    "dir_x = [0,1,0,-1] # 동 남 서 북, 아래 방향 좌표\n",
    "dir_y = [1,0,-1,0] # 오른 방향 좌표\n",
    "dir_idx = 0 # 시작은 동쪽\n",
    "\n",
    "# 초기 상태\n",
    "x,y = 0,0 # 현재 머리 좌표\n",
    "next_rot, next_dir = rotation.popleft()\n",
    "queue.append((x,y))\n",
    "Map[0][0] = 1\n",
    "\n",
    "while True: # 게임 진행 1초 단위\n",
    "    # 만약 진행 변경 시점이면 방향전환\n",
    "    if sec == next_rot:\n",
    "        if next_dir == 'D':\n",
    "            dir_idx = (dir_idx + 1) % 4\n",
    "        else:\n",
    "            dir_idx = (dir_idx - 1) % 4\n",
    "        if rotation: # 비어있지 않으면\n",
    "            next_rot, next_dir = rotation.popleft()\n",
    "    sec += 1   \n",
    "    #현재 머리 방향으로 한칸 이동\n",
    "    x += dir_x[dir_idx]\n",
    "    y += dir_y[dir_idx]\n",
    "    if  x >= n or x < 0 or y >= n or y < 0: # 벽에 부딪히거나 \n",
    "        break\n",
    "    elif Map[x][y] == 1:# 자기 자신 부딪히면\n",
    "        break\n",
    "    elif Map[x][y] == 2: #사과가 있다면\n",
    "        Map[x][y] = 1\n",
    "        queue.append((x,y)) # 머리를 stack에 넣고\n",
    "    else: # 아무 것도 없다면\n",
    "        Map[x][y] = 1\n",
    "        queue.append((x,y))\n",
    "        dx, dy = queue.popleft()\n",
    "        Map[dx][dy] = 0\n",
    "print(sec)\n"
   ]
  },
  {
   "cell_type": "code",
   "execution_count": 7,
   "metadata": {},
   "outputs": [
    {
     "name": "stdout",
     "output_type": "stream",
     "text": [
      "3 d\n",
      "deque([])\n",
      "empty\n"
     ]
    }
   ],
   "source": [
    "from collections import deque\n",
    "queue = deque()\n",
    "queue.append((3, 'd'))\n",
    "a,b = queue.popleft()\n",
    "print(a,b)\n",
    "if not queue:\n",
    "    print(\"empty\")"
   ]
  },
  {
   "cell_type": "code",
   "execution_count": 4,
   "metadata": {},
   "outputs": [],
   "source": [
    "aa, bb = 1, 1"
   ]
  },
  {
   "cell_type": "code",
   "execution_count": null,
   "metadata": {},
   "outputs": [],
   "source": []
  }
 ],
 "metadata": {
  "interpreter": {
   "hash": "a7401fdbc441e771371315dfd74d70672a7e5696f5857508b031491b5c8705db"
  },
  "kernelspec": {
   "display_name": "Python 3.8.10 64-bit ('base': conda)",
   "name": "python3"
  },
  "language_info": {
   "codemirror_mode": {
    "name": "ipython",
    "version": 3
   },
   "file_extension": ".py",
   "mimetype": "text/x-python",
   "name": "python",
   "nbconvert_exporter": "python",
   "pygments_lexer": "ipython3",
   "version": "3.8.10"
  },
  "orig_nbformat": 4
 },
 "nbformat": 4,
 "nbformat_minor": 2
}
